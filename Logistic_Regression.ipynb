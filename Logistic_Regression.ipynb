{
  "nbformat": 4,
  "nbformat_minor": 0,
  "metadata": {
    "colab": {
      "name": "Logistic Regression.ipynb",
      "provenance": [],
      "collapsed_sections": []
    },
    "kernelspec": {
      "name": "python3",
      "language": "python",
      "display_name": "Python 3"
    },
    "pycharm": {
      "stem_cell": {
        "cell_type": "raw",
        "source": [],
        "metadata": {
          "collapsed": false
        }
      }
    }
  },
  "cells": [
    {
      "cell_type": "markdown",
      "metadata": {
        "id": "FWwuN_B5D73w"
      },
      "source": [
        "***Initialization***"
      ]
    },
    {
      "cell_type": "code",
      "metadata": {
        "id": "9M1DAu9XPY8E"
      },
      "source": [
        "# load required library\n",
        "import matplotlib.pyplot as plt\n",
        "import numpy as np\n",
        "from sklearn.datasets import load_iris\n",
        "import scipy.optimize as opt"
      ],
      "execution_count": 585,
      "outputs": []
    },
    {
      "cell_type": "markdown",
      "metadata": {
        "id": "4LdQ5yubLJld"
      },
      "source": [
        "Load data *(Do not modify)*\n",
        "_________\n",
        "\n",
        "We use 100 samples and 2 features. \n"
      ]
    },
    {
      "cell_type": "code",
      "metadata": {
        "pycharm": {
          "name": "#%%\n"
        },
        "id": "ipOG3LQfjQMh"
      },
      "source": [
        "x, y = load_iris(return_X_y=True)"
      ],
      "execution_count": 599,
      "outputs": []
    },
    {
      "cell_type": "code",
      "metadata": {
        "id": "7EpIS82ED4vr"
      },
      "source": [
        "x=x[:100, :2] # class 0 and 1 balanced\n",
        "y=y[:100]"
      ],
      "execution_count": 600,
      "outputs": []
    },
    {
      "cell_type": "markdown",
      "metadata": {
        "collapsed": false,
        "id": "33XtealSjQMk"
      },
      "source": [
        "**Visualize data**\n",
        "___________"
      ]
    },
    {
      "cell_type": "code",
      "metadata": {
        "id": "V5KwBYiT-J3x",
        "colab": {
          "base_uri": "https://localhost:8080/",
          "height": 295
        },
        "outputId": "6ebca845-b5d0-4c8c-cf3b-3451d7fdb2a5"
      },
      "source": [
        "# draw raw data\n",
        "def draw_data(x,y):\n",
        "    \n",
        "    #########################################################################\n",
        "    # TODO:                                                                 #\n",
        "    # 1. make a scatter plot of the raw data                                #\n",
        "    # 2. set title for the plot                                             #\n",
        "    # 3. set label for x,y axis                                             #\n",
        "    # Note, this scatter plot has two different type of points              #\n",
        "    #########################################################################\n",
        "    i , j = (y==1).reshape(100,1) , (y==0).reshape(100,1)\n",
        "    plt.scatter(x[i[:,0],0],x[i[:,0],1],c=\"r\")\n",
        "    plt.scatter(x[j[:,0],0],x[j[:,0],1], c=\"b\",marker='x',s=10)\n",
        "    plt.title(\"Scatter plot for raw data\")\n",
        "    plt.xlabel(\"Sepal Length\")\n",
        "    plt.ylabel(\"Sepal Width\")\n",
        "    plt.legend([\"Class 1\",\"Class 0\"],loc=0)\n",
        "\n",
        "\n",
        "    # f1 = plt.scatter(x[:,0],x[:,1], c=y)\n",
        "    # f2 = plt.scatter(x[:,0],x[:,1], c=y)\n",
        "    # plt.legend((f1,f2),('class 1','class 2'))    \n",
        "\n",
        "    #########################################################################\n",
        "    #                       END OF YOUR CODE                                #\n",
        "    #########################################################################\n",
        "\n",
        "    # show plot\n",
        "    plt.show()\n",
        "draw_data(x,y)"
      ],
      "execution_count": 588,
      "outputs": [
        {
          "output_type": "display_data",
          "data": {
            "image/png": "[encoded data removed]",
            "text/plain": [
              "<Figure size 432x288 with 1 Axes>"
            ]
          },
          "metadata": {
            "tags": [],
            "needs_background": "light"
          }
        }
      ]
    },
    {
      "cell_type": "markdown",
      "metadata": {
        "id": "sknkLiYZjaJo"
      },
      "source": [
        "**Sigmoid function**\n",
        "________________"
      ]
    },
    {
      "cell_type": "code",
      "metadata": {
        "id": "wszqzBT9xRgj"
      },
      "source": [
        "# please do not modify this cell\n",
        "x = np.concatenate((np.array([np.ones(len(y))]).T, x), axis=1)\n",
        "theta = np.zeros(x.shape[1])"
      ],
      "execution_count": 590,
      "outputs": []
    },
    {
      "cell_type": "markdown",
      "metadata": {
        "id": "qfM7gVinsixJ"
      },
      "source": [
        "**You can decide by yourselves whether to split the dataset to training and testing. The training and testing datasets spliting is not a part of this. Without spliting, you can just report the accuracy on training dataset. **"
      ]
    },
    {
      "cell_type": "code",
      "metadata": {
        "pycharm": {
          "name": "#%%\n"
        },
        "id": "AsCvUXe1jQMq"
      },
      "source": [
        "# define sigmoid function\n",
        "# math: refer to https://en.wikipedia.org/wiki/Sigmoid_function or slides\n",
        "def sigmoid(theta, X):\n",
        "    #########################################################################\n",
        "    # TODO:                                                                 #\n",
        "    # 1. implement the sigmoid function over input theta and X\n",
        "    #########################################################################\n",
        "    \n",
        "    z = np.dot(theta, X.T)\n",
        "    s = 1/(1+np.exp(-(z)))\n",
        "    #########################################################################\n",
        "    #                       END OF YOUR CODE                                #\n",
        "    #########################################################################\n",
        "    \n",
        "    return s\n"
      ],
      "execution_count": 591,
      "outputs": []
    },
    {
      "cell_type": "markdown",
      "metadata": {
        "id": "4Layck69jdEU"
      },
      "source": [
        "**Cost function**\n",
        "____________"
      ]
    },
    {
      "cell_type": "code",
      "metadata": {
        "pycharm": {
          "name": "#%%\n"
        },
        "id": "oUtUiAqBjQMw"
      },
      "source": [
        "# define cost function with sigmoid function\n",
        "def cost(theta, X, y):\n",
        "    #########################################################################\n",
        "    # TODO:                                                                 #\n",
        "    # 1. implement the cross entropy loss function with sigmoid             #\n",
        "    #########################################################################\n",
        "    y1 = sigmoid(theta,X)\n",
        "    co = -(1/len(X)) * np.sum(y*np.log(y1) + (1-y)*np.log(1-y1))\n",
        "    #########################################################################\n",
        "    #                       END OF YOUR CODE                                #\n",
        "    #########################################################################\n",
        "    return co\n",
        "\n"
      ],
      "execution_count": 592,
      "outputs": []
    },
    {
      "cell_type": "markdown",
      "metadata": {
        "id": "fw9RGgRojgzY"
      },
      "source": [
        "**Calculate gradients**\n",
        "________________"
      ]
    },
    {
      "cell_type": "code",
      "metadata": {
        "pycharm": {
          "name": "#%%\n"
        },
        "id": "shm404iFjQM5"
      },
      "source": [
        "# the gradient of the cost is a vector of the same length as θ where the jth element (for j = 0, 1, . . . , n)\n",
        "def gradient(theta, X, y):\n",
        "    #########################################################################\n",
        "    # TODO:                                                                 #\n",
        "    # 1. calculate the gradients using theta and sigmoid                    #\n",
        "    # Hint: X may need to be transposed to do matrix operation              #\n",
        "    #########################################################################\n",
        "    grad = cost(theta, X, y)\n",
        "    m = len(X)\n",
        "    h = sigmoid(theta, X)\n",
        "    grad = grad - (1/m) * ((y-h) @ X)\n",
        "    #########################################################################\n",
        "    #                       END OF YOUR CODE                                #\n",
        "    #########################################################################\n",
        "    return grad\n"
      ],
      "execution_count": 593,
      "outputs": []
    },
    {
      "cell_type": "markdown",
      "metadata": {
        "id": "TzEZlyZjtYDJ"
      },
      "source": [
        "**Predicting**\n",
        "________________"
      ]
    },
    {
      "cell_type": "code",
      "metadata": {
        "id": "4-hauHHLLyh-"
      },
      "source": [
        "# predict for new X\n",
        "def predict(theta, X):\n",
        "    #########################################################################\n",
        "    # TODO:                                                                 #\n",
        "    # 1. predict the value using theta and sigmoid                          #\n",
        "    # 2. convert the predicted value to 0/1                                 #\n",
        "    # That's how it is called Logistic regression                           #\n",
        "    #########################################################################\n",
        "    h1 = []\n",
        "    h = sigmoid(theta, X)\n",
        "    for i in h:\n",
        "        if i>=0.5:\n",
        "            h1.append(1)\n",
        "        else:\n",
        "            h1.append(0)\n",
        "\n",
        "    predict_labels = h1\n",
        "    #########################################################################\n",
        "    #                       END OF YOUR CODE                                #\n",
        "    #########################################################################\n",
        "\n",
        "    return predict_labels\n",
        "\n"
      ],
      "execution_count": 594,
      "outputs": []
    },
    {
      "cell_type": "markdown",
      "metadata": {
        "id": "nN9AOS3UtYsr"
      },
      "source": [
        "**Calculate accuracy**\n",
        "________________"
      ]
    },
    {
      "cell_type": "code",
      "metadata": {
        "id": "ixEjN3TbwiPS"
      },
      "source": [
        "# calculate accuracy\n",
        "def accurate(predictions, y):\n",
        "    #########################################################################\n",
        "    # TODO:                                                                 #\n",
        "    # 1. calculate the accuracy value                                       #\n",
        "    # Note that you coud not import extra library                           #\n",
        "    #########################################################################\n",
        "    accuracy = 0\n",
        "    for i in range(0, len(predictions)):\n",
        "        if predictions[i] == y[i]:\n",
        "            accuracy += 1\n",
        "    \n",
        "    accuracy_score = accuracy/len(y)\n",
        "    #########################################################################\n",
        "    #                       END OF YOUR CODE                                #\n",
        "    #########################################################################\n",
        "    return accuracy_score"
      ],
      "execution_count": 595,
      "outputs": []
    },
    {
      "cell_type": "markdown",
      "metadata": {
        "id": "oXGba_YxMe3-"
      },
      "source": [
        "**Calling functions**\n",
        "________"
      ]
    },
    {
      "cell_type": "code",
      "metadata": {
        "id": "DAg50iSeMbdz",
        "colab": {
          "base_uri": "https://localhost:8080/"
        },
        "outputId": "8f40f708-f5e5-459c-ff92-2681d5073337"
      },
      "source": [
        "# please do not modify this cell\n",
        "result = opt.fmin_tnc(func=cost, x0=theta, fprime=gradient, args=(x, y))\n",
        "#print(result)\n",
        "final_theta = result[0]\n",
        "#print(final_theta)\n",
        "final_cost = cost(final_theta, x, y)\n",
        "predictions = predict(final_theta, x)\n",
        "accuracy = accurate(predictions, y)\n",
        "print(\"final cost is \" + str(final_cost))\n",
        "print(\"accuracy is \" + str(accuracy))"
      ],
      "execution_count": 596,
      "outputs": [
        {
          "output_type": "stream",
          "text": [
            "final cost is 0.16593157573967582\n",
            "accuracy is 0.96\n"
          ],
          "name": "stdout"
        }
      ]
    },
    {
      "cell_type": "markdown",
      "metadata": {
        "id": "5oqofQH5OKuj"
      },
      "source": [
        "**Decsion boudary** "
      ]
    },
    {
      "cell_type": "code",
      "metadata": {
        "id": "EBJmxm-Y4USK"
      },
      "source": [
        "# draw decision boudary\n",
        "def draw_decision_boudary(final_theta,x,y):\n",
        "    #########################################################################\n",
        "    # TODO:                                                                 #\n",
        "    # 1. plot the decision boudary on the raw data                          #\n",
        "    # 2. set title for the plot                                             #\n",
        "    # 3. set label for x,y axis                                             #\n",
        "    # Note, this scatter plot has two different type of points              #\n",
        "    #########################################################################\n",
        "    # plot_x = [np.min(x[:,0]-1), np.max(x[:,1]+2)]\n",
        "    plot_x = [2.0,8.0]\n",
        "    plot_y = -1/final_theta[2]*(final_theta[0] \n",
        "           + np.dot(final_theta[1],plot_x))\n",
        "    \n",
        "\n",
        "    i , j = (y==1).reshape(100,1) , (y==0).reshape(100,1)\n",
        "    plt.scatter(x[i[:,0],0],x[i[:,0],1],c=\"r\")\n",
        "    plt.scatter(x[j[:,0],0],x[j[:,0],1], c=\"b\",marker='x',s=10)\n",
        "    plt.title(\"Scatter plot for raw data\")\n",
        "    plt.xlabel(\"Sepal Length\")\n",
        "    plt.ylabel(\"Sepal Width\")\n",
        "    plt.legend([\"Class 1\",\"Class 0\"],loc=0)\n",
        "\n",
        "    decision_boun = plt.plot(plot_x, plot_y)    \n",
        "\n",
        "    #########################################################################\n",
        "    #                       END OF YOUR CODE                                #\n",
        "    #########################################################################\n",
        "\n",
        "    # show plot\n",
        "    plt.show()"
      ],
      "execution_count": 597,
      "outputs": []
    },
    {
      "cell_type": "markdown",
      "metadata": {
        "id": "PkIodLiurfW-"
      },
      "source": [
        "Your plot should be similar to the example below"
      ]
    },
    {
      "cell_type": "code",
      "metadata": {
        "id": "ButrhJxIuyqj",
        "colab": {
          "base_uri": "https://localhost:8080/",
          "height": 295
        },
        "outputId": "5253de58-6136-4c61-935b-a8319a5cbfba"
      },
      "source": [
        "draw_decision_boudary(final_theta,x,y)"
      ],
      "execution_count": 601,
      "outputs": [
        {
          "output_type": "display_data",
          "data": {
            "image/png": "[encoded data removed]",
            "text/plain": [
              "<Figure size 432x288 with 1 Axes>"
            ]
          },
          "metadata": {
            "tags": [],
            "needs_background": "light"
          }
        }
      ]
    },
    {
      "cell_type": "code",
      "metadata": {
        "id": "yN4lb6sNmKrb"
      },
      "source": [
        ""
      ],
      "execution_count": 598,
      "outputs": []
    }
  ]
}